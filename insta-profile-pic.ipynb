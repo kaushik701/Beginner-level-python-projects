{
 "cells": [
  {
   "cell_type": "code",
   "execution_count": 1,
   "metadata": {},
   "outputs": [
    {
     "name": "stdout",
     "output_type": "stream",
     "text": [
      "Instagram user : kuhuarnalkar\n",
      "\n",
      "Profile Picture URL Opened!\n"
     ]
    }
   ],
   "source": [
    "import requests,webbrowser,os,re\n",
    "\n",
    "if os.name == \"nt\":\n",
    "\tos.system(\"cls\")\n",
    "else:\n",
    "\tos.system(\"clear\")\n",
    "    \n",
    "    \n",
    "user = input(\"Instagram user : \")\n",
    "\n",
    "try:\n",
    "\tr = requests.get(\"https://www.instadp.com/fullsize/\" + user)\n",
    "\tprofile_pic = re.findall('<a class=\"download-btn\" href=\"(.*?)\" target=\"_blank\"><i></i>Download</a>',r.text)\n",
    "\tprint(\"\\nProfile Picture URL Opened!\")\n",
    "\twebbrowser.open(profile_pic[0])\n",
    "except:\n",
    "\tprint(\"Error! Please run again later!\")"
   ]
  },
  {
   "cell_type": "code",
   "execution_count": null,
   "metadata": {},
   "outputs": [],
   "source": []
  }
 ],
 "metadata": {
  "kernelspec": {
   "display_name": "Python 3",
   "language": "python",
   "name": "python3"
  },
  "language_info": {
   "codemirror_mode": {
    "name": "ipython",
    "version": 3
   },
   "file_extension": ".py",
   "mimetype": "text/x-python",
   "name": "python",
   "nbconvert_exporter": "python",
   "pygments_lexer": "ipython3",
   "version": "3.7.6"
  }
 },
 "nbformat": 4,
 "nbformat_minor": 2
}
